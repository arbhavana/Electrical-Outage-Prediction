{
  "cells": [
    {
      "cell_type": "markdown",
      "metadata": {
        "id": "view-in-github",
        "colab_type": "text"
      },
      "source": [
        "<a href=\"https://colab.research.google.com/github/arbhavana/Electrical-Outage-Prediction/blob/main/electrical_outage_prediction.ipynb\" target=\"_parent\"><img src=\"https://colab.research.google.com/assets/colab-badge.svg\" alt=\"Open In Colab\"/></a>"
      ]
    },
    {
      "cell_type": "code",
      "execution_count": 3,
      "metadata": {
        "colab": {
          "base_uri": "https://localhost:8080/"
        },
        "id": "qRrAU6qj665q",
        "outputId": "dfc8be03-eef3-48e3-f506-6e5c340cc49f"
      },
      "outputs": [
        {
          "output_type": "stream",
          "name": "stdout",
          "text": [
            "      Date  Total_outages  Equipment  Trees  Animals  Lightning  \\\n",
            "0  9/11/00            0.0        0.0    0.0      0.0        0.0   \n",
            "1  9/12/00            2.0        1.0    0.0      1.0        0.0   \n",
            "2  9/13/00            1.0        1.0    0.0      0.0        0.0   \n",
            "3  9/14/00            0.0        0.0    0.0      0.0        0.0   \n",
            "4  9/15/00            1.0        1.0    0.0      0.0        0.0   \n",
            "\n",
            "   Day_length_hr  Max_temp_F  Avg_Temp_F  Min_temp_F  ...  Avg_windspeed_mph  \\\n",
            "0      12.783333        66.0        58.0        50.0  ...                2.0   \n",
            "1      12.716667        75.0        62.0        52.0  ...                4.0   \n",
            "2      12.666667        77.0        64.0        54.0  ...                7.0   \n",
            "3      12.616667        84.0        71.0        60.0  ...               12.0   \n",
            "4      12.550000        73.0        66.0        59.0  ...                5.0   \n",
            "\n",
            "   Max_windgust_mph  Precipitation_in  Events  Event_fog  Event_rain  \\\n",
            "0               9.0              0.01     Fog        1.0         0.0   \n",
            "1               9.0              0.00     NaN        0.0         0.0   \n",
            "2              25.0              0.00     Fog        1.0         0.0   \n",
            "3               9.0              0.00     NaN        0.0         0.0   \n",
            "4               9.0              0.00     NaN        0.0         0.0   \n",
            "\n",
            "   Event_snow  Event_thunderstorm  Event_Hail  Event_Tornado  \n",
            "0         0.0                 0.0         0.0            0.0  \n",
            "1         0.0                 0.0         0.0            0.0  \n",
            "2         0.0                 0.0         0.0            0.0  \n",
            "3         0.0                 0.0         0.0            0.0  \n",
            "4         0.0                 0.0         0.0            0.0  \n",
            "\n",
            "[5 rows x 27 columns]\n",
            "Index(['Date', 'Total_outages', 'Equipment', 'Trees', 'Animals', 'Lightning',\n",
            "       'Day_length_hr', 'Max_temp_F', 'Avg_Temp_F', 'Min_temp_F',\n",
            "       'Max_humidity_percent', 'Avg_humidity_percent', 'Min_humidity_percent',\n",
            "       'Max_visibility_mi', 'Avg_visibility_mi', 'Min_visibility_mi',\n",
            "       'Max_windspeed_mph', 'Avg_windspeed_mph', 'Max_windgust_mph',\n",
            "       'Precipitation_in', 'Events', 'Event_fog', 'Event_rain', 'Event_snow',\n",
            "       'Event_thunderstorm', 'Event_Hail', 'Event_Tornado'],\n",
            "      dtype='object')\n"
          ]
        }
      ],
      "source": [
        "import pandas as pd\n",
        "import numpy as np\n",
        "from sklearn.model_selection import train_test_split\n",
        "from sklearn.preprocessing import StandardScaler\n",
        "from sklearn.ensemble import RandomForestRegressor, RandomForestClassifier\n",
        "from sklearn.linear_model import LinearRegression, LogisticRegression\n",
        "from sklearn.svm import SVR, SVC\n",
        "from sklearn.metrics import mean_squared_error, accuracy_score, classification_report\n",
        "import tensorflow as tf\n",
        "from tensorflow.keras.models import Sequential\n",
        "from tensorflow.keras.layers import Dense\n",
        "import seaborn as sns\n",
        "import matplotlib.pyplot as plt\n",
        "from sklearn.metrics import confusion_matrix\n",
        "\n",
        "# Load the data\n",
        "data_path = 'WeatherOutagesAllJerry.csv'\n",
        "data = pd.read_csv(data_path)\n",
        "\n",
        "# Display the first few rows of the data\n",
        "print(data.head())\n",
        "print(data.columns)"
      ]
    },
    {
      "cell_type": "markdown",
      "metadata": {
        "id": "Q3cI1QCl6_Bf"
      },
      "source": [
        "Data Preprocessing"
      ]
    },
    {
      "cell_type": "code",
      "execution_count": 4,
      "metadata": {
        "id": "y7RDc61u6-hr"
      },
      "outputs": [],
      "source": [
        "\n",
        "# Drop the unnecessary columns\n",
        "data_cleaned = data.drop(columns=['Date', 'Events','Event_rain', 'Event_snow',\n",
        "       'Event_thunderstorm', 'Event_Hail', 'Event_Tornado', 'Event_fog'])\n",
        "\n",
        "# Handle missing values by filling with the median value of each column\n",
        "data_cleaned = data_cleaned.fillna(data_cleaned.median())"
      ]
    },
    {
      "cell_type": "markdown",
      "metadata": {
        "id": "ZKaD3kjD7KmZ"
      },
      "source": [
        "Feature Selection"
      ]
    },
    {
      "cell_type": "code",
      "execution_count": 5,
      "metadata": {
        "colab": {
          "base_uri": "https://localhost:8080/"
        },
        "id": "YOfo4Duc7JaM",
        "outputId": "8644fd41-67b5-4b47-a1a6-e73033c0f5a5"
      },
      "outputs": [
        {
          "output_type": "stream",
          "name": "stdout",
          "text": [
            "Index(['Equipment', 'Trees', 'Animals', 'Lightning', 'Day_length_hr',\n",
            "       'Max_temp_F', 'Avg_Temp_F', 'Min_temp_F', 'Max_humidity_percent',\n",
            "       'Avg_humidity_percent', 'Min_humidity_percent', 'Max_visibility_mi',\n",
            "       'Avg_visibility_mi', 'Min_visibility_mi', 'Max_windspeed_mph',\n",
            "       'Avg_windspeed_mph', 'Max_windgust_mph', 'Precipitation_in'],\n",
            "      dtype='object')\n"
          ]
        }
      ],
      "source": [
        "# Split the data into features and target variable\n",
        "features = data_cleaned.drop(columns=['Total_outages'])\n",
        "target_outages = data_cleaned['Total_outages']\n",
        "print(features.columns)\n",
        "# Split the data into training and testing sets\n",
        "X_train, X_test, y_train, y_test = train_test_split(features, target_outages, test_size=0.3, random_state=42)\n",
        "\n",
        "# Standardize the features\n",
        "scaler = StandardScaler()\n",
        "X_train_scaled = scaler.fit_transform(X_train)\n",
        "X_test_scaled = scaler.transform(X_test)\n"
      ]
    },
    {
      "cell_type": "markdown",
      "metadata": {
        "id": "Pjf8lLbP7JJn"
      },
      "source": [
        "\n",
        "Predicting the tota number of outages and comparing the results of various regression algoritms"
      ]
    },
    {
      "cell_type": "code",
      "execution_count": 6,
      "metadata": {
        "colab": {
          "base_uri": "https://localhost:8080/"
        },
        "id": "K85uNKNU8CAe",
        "outputId": "fbb17bc8-b7ec-4f0c-943a-a1fba94cffff"
      },
      "outputs": [
        {
          "output_type": "stream",
          "name": "stdout",
          "text": [
            "RandomForest Mean Squared Error: 0.4223911583659764\n",
            "LinearRegression Mean Squared Error: 0.044170685971934354\n",
            "SVR Mean Squared Error: 0.9666108976244199\n",
            "56/56 [==============================] - 0s 1ms/step\n",
            "Neural Network Mean Squared Error: 0.0018748459292640507\n"
          ]
        }
      ],
      "source": [
        "# Regression Algorithms\n",
        "regressors = {\n",
        "    'RandomForest': RandomForestRegressor(random_state=42),\n",
        "    'LinearRegression': LinearRegression(),\n",
        "    'SVR': SVR()                                   #Support vector regressor\n",
        "}\n",
        "\n",
        "regression_results = {}\n",
        "for name, regressor in regressors.items():\n",
        "    regressor.fit(X_train_scaled, y_train)\n",
        "    y_pred = regressor.predict(X_test_scaled)\n",
        "    mse = mean_squared_error(y_test, y_pred)\n",
        "    regression_results[name] = (y_pred, mse)\n",
        "    print(f'{name} Mean Squared Error: {mse}')\n",
        "\n",
        "# Neural Network for Regression\n",
        "model = Sequential()\n",
        "model.add(Dense(64, input_dim=X_train_scaled.shape[1], activation='relu'))\n",
        "model.add(Dense(32, activation='relu'))\n",
        "model.add(Dense(1))\n",
        "model.compile(optimizer='adam', loss='mse')\n",
        "\n",
        "model.fit(X_train_scaled, y_train, epochs=100, batch_size=10, verbose=0)\n",
        "y_pred_nn = model.predict(X_test_scaled)\n",
        "mse_nn = mean_squared_error(y_test, y_pred_nn)\n",
        "regression_results['NeuralNetwork'] = (y_pred_nn.flatten(), mse_nn)\n",
        "print(f'Neural Network Mean Squared Error: {mse_nn}')"
      ]
    },
    {
      "cell_type": "code",
      "execution_count": 7,
      "metadata": {
        "colab": {
          "base_uri": "https://localhost:8080/"
        },
        "id": "VICCiqCjAElb",
        "outputId": "0ae0867c-92cd-4867-95f2-b14f6150257f"
      },
      "outputs": [
        {
          "output_type": "stream",
          "name": "stdout",
          "text": [
            "Best regression model: NeuralNetwork\n"
          ]
        }
      ],
      "source": [
        "# Choose the best regression model (with the lowest MSE) for further use\n",
        "best_regressor_name = min(regression_results, key=lambda x: regression_results[x][1])\n",
        "best_y_pred_outages = regression_results[best_regressor_name][0]\n",
        "print(f'Best regression model: {best_regressor_name}')\n"
      ]
    },
    {
      "cell_type": "code",
      "execution_count": 8,
      "metadata": {
        "colab": {
          "base_uri": "https://localhost:8080/"
        },
        "id": "4LxRfDklALDV",
        "outputId": "b548e2be-b268-4bb6-9fb4-f4190234aa20"
      },
      "outputs": [
        {
          "output_type": "stream",
          "name": "stdout",
          "text": [
            "Index(['Equipment', 'Trees', 'Animals', 'Lightning', 'Day_length_hr',\n",
            "       'Max_temp_F', 'Avg_Temp_F', 'Min_temp_F', 'Max_humidity_percent',\n",
            "       'Avg_humidity_percent', 'Min_humidity_percent', 'Max_visibility_mi',\n",
            "       'Avg_visibility_mi', 'Min_visibility_mi', 'Max_windspeed_mph',\n",
            "       'Avg_windspeed_mph', 'Max_windgust_mph', 'Precipitation_in'],\n",
            "      dtype='object')\n"
          ]
        }
      ],
      "source": [
        "# Add the predicted outages to the features for classification\n",
        "X_test_with_predicted_outages = X_test.copy()\n",
        "X_test_with_predicted_outages['Predicted_outages'] = best_y_pred_outages\n",
        "print(features.columns)\n"
      ]
    },
    {
      "cell_type": "code",
      "execution_count": 9,
      "metadata": {
        "id": "XD6-tZadpN-8"
      },
      "outputs": [],
      "source": [
        "from sklearn.impute import SimpleImputer\n",
        "\n",
        "# Causes and their corresponding columns\n",
        "causes = ['Equipment', 'Trees', 'Animals', 'Lightning']\n",
        "data_cleaned['cause'] = data_cleaned[causes].idxmax(axis=1)\n",
        "# Encode the cause column\n",
        "data_cleaned['cause'] = data_cleaned['cause'].astype('category').cat.codes\n",
        "features = data_cleaned.drop(columns=['cause'] + causes)\n",
        "\n",
        "\n",
        "\n",
        "# Split the data into features and target variable for classification\n",
        "target_cause = data_cleaned['cause']\n",
        "X_train_cause, X_test_cause, y_train_cause, y_test_cause = train_test_split(features, target_cause, test_size=0.3, random_state=42)\n",
        "\n",
        "\n",
        "# Add the actual outages to the training features for classification\n",
        "X_train_cause['Total_outages'] = y_train\n",
        "\n",
        "X_test_cause['Total_outages'] = best_y_pred_outages  # Use predicted outages in the test set\n",
        "\n",
        "# Impute missing values using SimpleImputer\n",
        "imputer = SimpleImputer(strategy='mean')\n",
        "X_train_cause_imputed = imputer.fit_transform(X_train_cause)\n",
        "X_test_cause_imputed = imputer.transform(X_test_cause)\n",
        "\n",
        "# Standardize the features for classification\n",
        "scaler = StandardScaler()\n",
        "X_train_cause_scaled = scaler.fit_transform(X_train_cause_imputed)\n",
        "X_test_cause_scaled = scaler.transform(X_test_cause_imputed)"
      ]
    },
    {
      "cell_type": "code",
      "execution_count": 10,
      "metadata": {
        "colab": {
          "base_uri": "https://localhost:8080/",
          "height": 1000
        },
        "id": "WLlApxUelBPP",
        "outputId": "bfc61cb9-c6b2-4e7f-8a98-3d14d2621ed9"
      },
      "outputs": [
        {
          "output_type": "stream",
          "name": "stdout",
          "text": [
            "RandomForest Classification Accuracy: 0.846670397313934\n",
            "RandomForest Classification Report:\n",
            "               precision    recall  f1-score   support\n",
            "\n",
            "           0       0.54      0.15      0.24       142\n",
            "           1       0.86      0.98      0.91      1483\n",
            "           2       0.00      0.00      0.00         6\n",
            "           3       0.77      0.22      0.34       156\n",
            "\n",
            "    accuracy                           0.85      1787\n",
            "   macro avg       0.54      0.34      0.37      1787\n",
            "weighted avg       0.82      0.85      0.81      1787\n",
            "\n",
            "LogisticRegression Classification Accuracy: 0.8483491885842194\n",
            "LogisticRegression Classification Report:\n",
            "               precision    recall  f1-score   support\n",
            "\n",
            "           0       0.67      0.11      0.19       142\n",
            "           1       0.85      0.99      0.92      1483\n",
            "           2       0.00      0.00      0.00         6\n",
            "           3       0.74      0.22      0.34       156\n",
            "\n",
            "    accuracy                           0.85      1787\n",
            "   macro avg       0.56      0.33      0.36      1787\n",
            "weighted avg       0.83      0.85      0.81      1787\n",
            "\n"
          ]
        },
        {
          "output_type": "stream",
          "name": "stderr",
          "text": [
            "/usr/local/lib/python3.10/dist-packages/sklearn/metrics/_classification.py:1344: UndefinedMetricWarning: Precision and F-score are ill-defined and being set to 0.0 in labels with no predicted samples. Use `zero_division` parameter to control this behavior.\n",
            "  _warn_prf(average, modifier, msg_start, len(result))\n",
            "/usr/local/lib/python3.10/dist-packages/sklearn/metrics/_classification.py:1344: UndefinedMetricWarning: Precision and F-score are ill-defined and being set to 0.0 in labels with no predicted samples. Use `zero_division` parameter to control this behavior.\n",
            "  _warn_prf(average, modifier, msg_start, len(result))\n",
            "/usr/local/lib/python3.10/dist-packages/sklearn/metrics/_classification.py:1344: UndefinedMetricWarning: Precision and F-score are ill-defined and being set to 0.0 in labels with no predicted samples. Use `zero_division` parameter to control this behavior.\n",
            "  _warn_prf(average, modifier, msg_start, len(result))\n",
            "/usr/local/lib/python3.10/dist-packages/sklearn/metrics/_classification.py:1344: UndefinedMetricWarning: Precision and F-score are ill-defined and being set to 0.0 in labels with no predicted samples. Use `zero_division` parameter to control this behavior.\n",
            "  _warn_prf(average, modifier, msg_start, len(result))\n",
            "/usr/local/lib/python3.10/dist-packages/sklearn/metrics/_classification.py:1344: UndefinedMetricWarning: Precision and F-score are ill-defined and being set to 0.0 in labels with no predicted samples. Use `zero_division` parameter to control this behavior.\n",
            "  _warn_prf(average, modifier, msg_start, len(result))\n",
            "/usr/local/lib/python3.10/dist-packages/sklearn/metrics/_classification.py:1344: UndefinedMetricWarning: Precision and F-score are ill-defined and being set to 0.0 in labels with no predicted samples. Use `zero_division` parameter to control this behavior.\n",
            "  _warn_prf(average, modifier, msg_start, len(result))\n"
          ]
        },
        {
          "output_type": "stream",
          "name": "stdout",
          "text": [
            "SVC Classification Accuracy: 0.8410744264129827\n",
            "SVC Classification Report:\n",
            "               precision    recall  f1-score   support\n",
            "\n",
            "           0       0.50      0.01      0.01       142\n",
            "           1       0.84      1.00      0.91      1483\n",
            "           2       0.00      0.00      0.00         6\n",
            "           3       1.00      0.13      0.23       156\n",
            "\n",
            "    accuracy                           0.84      1787\n",
            "   macro avg       0.58      0.28      0.29      1787\n",
            "weighted avg       0.82      0.84      0.78      1787\n",
            "\n"
          ]
        },
        {
          "output_type": "stream",
          "name": "stderr",
          "text": [
            "/usr/local/lib/python3.10/dist-packages/sklearn/metrics/_classification.py:1344: UndefinedMetricWarning: Precision and F-score are ill-defined and being set to 0.0 in labels with no predicted samples. Use `zero_division` parameter to control this behavior.\n",
            "  _warn_prf(average, modifier, msg_start, len(result))\n",
            "/usr/local/lib/python3.10/dist-packages/sklearn/metrics/_classification.py:1344: UndefinedMetricWarning: Precision and F-score are ill-defined and being set to 0.0 in labels with no predicted samples. Use `zero_division` parameter to control this behavior.\n",
            "  _warn_prf(average, modifier, msg_start, len(result))\n",
            "/usr/local/lib/python3.10/dist-packages/sklearn/metrics/_classification.py:1344: UndefinedMetricWarning: Precision and F-score are ill-defined and being set to 0.0 in labels with no predicted samples. Use `zero_division` parameter to control this behavior.\n",
            "  _warn_prf(average, modifier, msg_start, len(result))\n"
          ]
        },
        {
          "output_type": "stream",
          "name": "stdout",
          "text": [
            "56/56 [==============================] - 0s 1ms/step\n",
            "Neural Network Classification Accuracy: 0.7901510912143257\n",
            "Neural Network Classification Report:\n",
            "               precision    recall  f1-score   support\n",
            "\n",
            "           0       0.30      0.38      0.33       142\n",
            "           1       0.89      0.88      0.88      1483\n",
            "           2       0.17      0.17      0.17         6\n",
            "           3       0.39      0.32      0.35       156\n",
            "\n",
            "    accuracy                           0.79      1787\n",
            "   macro avg       0.44      0.44      0.43      1787\n",
            "weighted avg       0.80      0.79      0.79      1787\n",
            "\n",
            "Best classification model: LogisticRegression\n",
            "Total predicted outages: 2018\n",
            "Total predicted causes: 1787\n"
          ]
        },
        {
          "output_type": "display_data",
          "data": {
            "text/plain": [
              "<Figure size 800x600 with 2 Axes>"
            ],
            "image/png": "[encoded data removed]"
          },
          "metadata": {}
        }
      ],
      "source": [
        "# Classification Algorithms\n",
        "classifiers = {\n",
        "    'RandomForest': RandomForestClassifier(random_state=42),\n",
        "    'LogisticRegression': LogisticRegression(max_iter=1000, random_state=42),\n",
        "    'SVC': SVC()\n",
        "}\n",
        "\n",
        "classification_results = {}\n",
        "for name, classifier in classifiers.items():\n",
        "    classifier.fit(X_train_cause_scaled, y_train_cause)\n",
        "    y_pred_cause = classifier.predict(X_test_cause_scaled)\n",
        "    accuracy = accuracy_score(y_test_cause, y_pred_cause)\n",
        "    classification_results[name] = (y_pred_cause, accuracy)\n",
        "    print(f'{name} Classification Accuracy: {accuracy}')\n",
        "    print(f'{name} Classification Report:\\n', classification_report(y_test_cause, y_pred_cause))\n",
        "\n",
        "# Neural Network for Classification\n",
        "model = Sequential()\n",
        "model.add(Dense(64, input_dim=X_train_cause_scaled.shape[1], activation='relu'))\n",
        "model.add(Dense(32, activation='relu'))\n",
        "model.add(Dense(len(causes), activation='softmax'))\n",
        "model.compile(optimizer='adam', loss='sparse_categorical_crossentropy', metrics=['accuracy'])\n",
        "\n",
        "model.fit(X_train_cause_scaled, y_train_cause, epochs=100, batch_size=10, verbose=0)\n",
        "y_pred_cause_nn_prob = model.predict(X_test_cause_scaled)\n",
        "y_pred_cause_nn_classes = np.argmax(y_pred_cause_nn_prob, axis=1)\n",
        "accuracy_nn = accuracy_score(y_test_cause, y_pred_cause_nn_classes)\n",
        "classification_results['NeuralNetwork'] = (y_pred_cause_nn_classes, accuracy_nn)\n",
        "print(f'Neural Network Classification Accuracy: {accuracy_nn}')\n",
        "print('Neural Network Classification Report:\\n', classification_report(y_test_cause, y_pred_cause_nn_classes))\n",
        "\n",
        "# Choose the best classifier (with the highest accuracy) for further use\n",
        "best_classifier_name = max(classification_results, key=lambda x: classification_results[x][1])\n",
        "best_y_pred_cause = classification_results[best_classifier_name][0]\n",
        "print(f'Best classification model: {best_classifier_name}')\n",
        "\n",
        "# Ensure total predicted outages matches total predicted causes\n",
        "total_predicted_outages = np.round(best_y_pred_outages).astype(int)\n",
        "total_predicted_outages = np.clip(total_predicted_outages, 0, None)  # Ensure no negative values\n",
        "\n",
        "total_predicted_cause_counts = np.bincount(best_y_pred_cause, minlength=len(causes))\n",
        "\n",
        "print(f'Total predicted outages: {total_predicted_outages.sum()}')\n",
        "print(f'Total predicted causes: {total_predicted_cause_counts.sum()}')\n",
        "\n",
        "# Confusion matrix for the best classifier\n",
        "conf_matrix = confusion_matrix(y_test_cause, best_y_pred_cause)\n",
        "plt.figure(figsize=(8, 6))\n",
        "sns.heatmap(conf_matrix, annot=True, fmt='d', cmap='coolwarm', xticklabels=causes, yticklabels=causes)\n",
        "plt.ylabel('Actual')\n",
        "plt.xlabel('Predicted')\n",
        "plt.title(f'Confusion Matrix - {best_classifier_name}')\n",
        "plt.show()\n"
      ]
    },
    {
      "cell_type": "markdown",
      "metadata": {
        "id": "qIFVz2l1BAqa"
      },
      "source": [
        "!pip install streamlit\n"
      ]
    },
    {
      "cell_type": "code",
      "execution_count": null,
      "metadata": {
        "id": "3Yl4HXiZl-wb"
      },
      "outputs": [],
      "source": []
    },
    {
      "cell_type": "code",
      "execution_count": null,
      "metadata": {
        "id": "89v8Iwbll-s1"
      },
      "outputs": [],
      "source": []
    }
  ],
  "metadata": {
    "colab": {
      "provenance": [],
      "authorship_tag": "ABX9TyPZQibzcWQPCxH/Nk7iV8s/",
      "include_colab_link": true
    },
    "kernelspec": {
      "display_name": "Python 3",
      "name": "python3"
    },
    "language_info": {
      "name": "python"
    }
  },
  "nbformat": 4,
  "nbformat_minor": 0
}